{
 "cells": [
  {
   "cell_type": "markdown",
   "id": "bf69c39e-fc09-46b6-844b-04a9a06a53a7",
   "metadata": {},
   "source": [
    "Jak działa pobieranie tagów mp3?"
   ]
  },
  {
   "cell_type": "code",
   "execution_count": null,
   "id": "4e414d0d-3d53-4b4a-bf7b-dfe5954b1d6a",
   "metadata": {},
   "outputs": [],
   "source": [
    "import "
   ]
  },
  {
   "cell_type": "code",
   "execution_count": 1,
   "id": "f566f23a-d79f-415f-9595-fdff04a37d46",
   "metadata": {},
   "outputs": [
    {
     "data": {
      "text/plain": [
       "5"
      ]
     },
     "execution_count": 1,
     "metadata": {},
     "output_type": "execute_result"
    }
   ],
   "source": [
    "3+2"
   ]
  },
  {
   "cell_type": "code",
   "execution_count": 1,
   "id": "2e2bb341-5f06-489a-a910-16f3d142665c",
   "metadata": {},
   "outputs": [],
   "source": [
    "from bs4 import BeautifulSoup"
   ]
  },
  {
   "cell_type": "code",
   "execution_count": 2,
   "id": "421a48b9-31ed-4659-aa82-c1da48192ccd",
   "metadata": {},
   "outputs": [],
   "source": [
    "import eyed3"
   ]
  },
  {
   "cell_type": "code",
   "execution_count": 13,
   "id": "4f34c6c3-d110-4aab-b8e0-c6499b27e7f7",
   "metadata": {},
   "outputs": [],
   "source": [
    "plik1 = '/home/devja318/Pobrane/sounds/031. Tones And I - Dance Monkey.mp3'"
   ]
  },
  {
   "cell_type": "code",
   "execution_count": 14,
   "id": "a7f56069-a3c9-4482-b147-6ef4937d6eef",
   "metadata": {},
   "outputs": [],
   "source": [
    "audiofileeyed3 = eyed3.load(plik1)"
   ]
  },
  {
   "cell_type": "code",
   "execution_count": 18,
   "id": "edb9f4b1-5dff-4553-9b33-7cada0d5a2dc",
   "metadata": {},
   "outputs": [
    {
     "name": "stdout",
     "output_type": "stream",
     "text": [
      "<eyed3.mp3.Mp3AudioFile object at 0x7f1c04cd62c0>\n"
     ]
    }
   ],
   "source": [
    "print(audiofileeyed3)"
   ]
  },
  {
   "cell_type": "code",
   "execution_count": 27,
   "id": "7fde2f2b-2cb1-46da-a56e-e6272f6cdb9c",
   "metadata": {},
   "outputs": [
    {
     "ename": "AttributeError",
     "evalue": "'Mp3AudioFile' object has no attribute 'getTag'",
     "output_type": "error",
     "traceback": [
      "\u001b[0;31m---------------------------------------------------------------------------\u001b[0m",
      "\u001b[0;31mAttributeError\u001b[0m                            Traceback (most recent call last)",
      "Input \u001b[0;32mIn [27]\u001b[0m, in \u001b[0;36m<module>\u001b[0;34m\u001b[0m\n\u001b[0;32m----> 1\u001b[0m tag \u001b[38;5;241m=\u001b[39m \u001b[43maudiofileeyed3\u001b[49m\u001b[38;5;241;43m.\u001b[39;49m\u001b[43mgetTag\u001b[49m()\n",
      "\u001b[0;31mAttributeError\u001b[0m: 'Mp3AudioFile' object has no attribute 'getTag'"
     ]
    }
   ],
   "source": [
    "tag = audiofileeyed3.getTag()"
   ]
  },
  {
   "cell_type": "code",
   "execution_count": 29,
   "id": "305e36ca-7dca-4446-bb96-4440d92da19d",
   "metadata": {},
   "outputs": [],
   "source": [
    "track = eyed3.load(plik1)\n",
    "tag = track.tag\n",
    "artist = tag.artist\n",
    "lyrics = tag.lyrics"
   ]
  },
  {
   "cell_type": "code",
   "execution_count": 43,
   "id": "7d8c338e-c4bd-402d-96b9-77ac1738bbf4",
   "metadata": {},
   "outputs": [
    {
     "ename": "IndexError",
     "evalue": "list index out of range",
     "output_type": "error",
     "traceback": [
      "\u001b[0;31m---------------------------------------------------------------------------\u001b[0m",
      "\u001b[0;31mIndexError\u001b[0m                                Traceback (most recent call last)",
      "Input \u001b[0;32mIn [43]\u001b[0m, in \u001b[0;36m<module>\u001b[0;34m\u001b[0m\n\u001b[0;32m----> 1\u001b[0m \u001b[38;5;28mprint\u001b[39m(\u001b[43mtag\u001b[49m\u001b[38;5;241;43m.\u001b[39;49m\u001b[43mlyrics\u001b[49m\u001b[43m[\u001b[49m\u001b[38;5;241;43m0\u001b[39;49m\u001b[43m]\u001b[49m\u001b[38;5;241m.\u001b[39mtext)\n",
      "File \u001b[0;32m~/.local/share/virtualenvs/Projekt-piosenki-lGd4q109/lib/python3.10/site-packages/eyed3/id3/tag.py:1514\u001b[0m, in \u001b[0;36mAccessorBase.__getitem__\u001b[0;34m(self, i)\u001b[0m\n\u001b[1;32m   1512\u001b[0m frames \u001b[38;5;241m=\u001b[39m \u001b[38;5;28mself\u001b[39m\u001b[38;5;241m.\u001b[39m_fs[\u001b[38;5;28mself\u001b[39m\u001b[38;5;241m.\u001b[39m_fid]\n\u001b[1;32m   1513\u001b[0m \u001b[38;5;28;01mif\u001b[39;00m \u001b[38;5;129;01mnot\u001b[39;00m frames:\n\u001b[0;32m-> 1514\u001b[0m     \u001b[38;5;28;01mraise\u001b[39;00m \u001b[38;5;167;01mIndexError\u001b[39;00m(\u001b[38;5;124m\"\u001b[39m\u001b[38;5;124mlist index out of range\u001b[39m\u001b[38;5;124m\"\u001b[39m)\n\u001b[1;32m   1515\u001b[0m \u001b[38;5;28;01mreturn\u001b[39;00m frames[i]\n",
      "\u001b[0;31mIndexError\u001b[0m: list index out of range"
     ]
    }
   ],
   "source": [
    "print(tag.lyrics[0].text)"
   ]
  },
  {
   "cell_type": "code",
   "execution_count": 45,
   "id": "a5f90189-1347-4149-8e89-52496692ef46",
   "metadata": {},
   "outputs": [],
   "source": [
    "for lyric in tag.lyrics:\n",
    "    print(lyric)"
   ]
  },
  {
   "cell_type": "code",
   "execution_count": 39,
   "id": "1d9bd7bf-9e61-426c-8bba-1d89dc39e667",
   "metadata": {},
   "outputs": [
    {
     "name": "stdout",
     "output_type": "stream",
     "text": [
      "['FrameClass', '__class__', '__delattr__', '__dict__', '__dir__', '__doc__', '__eq__', '__format__', '__ge__', '__getattribute__', '__getitem__', '__gt__', '__hash__', '__init__', '__init_subclass__', '__iter__', '__le__', '__len__', '__lt__', '__module__', '__ne__', '__new__', '__reduce__', '__reduce_ex__', '__repr__', '__setattr__', '__sizeof__', '__str__', '__subclasshook__', '__weakref__', '_fid', '_fs', '_match_func', 'get', 'remove', 'set']\n"
     ]
    }
   ],
   "source": [
    "print(dir(tag.lyrics))\n"
   ]
  },
  {
   "cell_type": "code",
   "execution_count": 41,
   "id": "c2782144-325f-4f10-a084-d78d17943659",
   "metadata": {},
   "outputs": [
    {
     "ename": "IndexError",
     "evalue": "list index out of range",
     "output_type": "error",
     "traceback": [
      "\u001b[0;31m---------------------------------------------------------------------------\u001b[0m",
      "\u001b[0;31mIndexError\u001b[0m                                Traceback (most recent call last)",
      "Input \u001b[0;32mIn [41]\u001b[0m, in \u001b[0;36m<module>\u001b[0;34m\u001b[0m\n\u001b[0;32m----> 1\u001b[0m \u001b[43mtag\u001b[49m\u001b[38;5;241;43m.\u001b[39;49m\u001b[43mlyrics\u001b[49m\u001b[43m[\u001b[49m\u001b[38;5;241;43m0\u001b[39;49m\u001b[43m]\u001b[49m\u001b[38;5;241m.\u001b[39mtext\n",
      "File \u001b[0;32m~/.local/share/virtualenvs/Projekt-piosenki-lGd4q109/lib/python3.10/site-packages/eyed3/id3/tag.py:1514\u001b[0m, in \u001b[0;36mAccessorBase.__getitem__\u001b[0;34m(self, i)\u001b[0m\n\u001b[1;32m   1512\u001b[0m frames \u001b[38;5;241m=\u001b[39m \u001b[38;5;28mself\u001b[39m\u001b[38;5;241m.\u001b[39m_fs[\u001b[38;5;28mself\u001b[39m\u001b[38;5;241m.\u001b[39m_fid]\n\u001b[1;32m   1513\u001b[0m \u001b[38;5;28;01mif\u001b[39;00m \u001b[38;5;129;01mnot\u001b[39;00m frames:\n\u001b[0;32m-> 1514\u001b[0m     \u001b[38;5;28;01mraise\u001b[39;00m \u001b[38;5;167;01mIndexError\u001b[39;00m(\u001b[38;5;124m\"\u001b[39m\u001b[38;5;124mlist index out of range\u001b[39m\u001b[38;5;124m\"\u001b[39m)\n\u001b[1;32m   1515\u001b[0m \u001b[38;5;28;01mreturn\u001b[39;00m frames[i]\n",
      "\u001b[0;31mIndexError\u001b[0m: list index out of range"
     ]
    }
   ],
   "source": [
    "tag.lyrics[0].text"
   ]
  },
  {
   "cell_type": "code",
   "execution_count": null,
   "id": "d7374da8-287d-4e57-8be8-6edc595180cd",
   "metadata": {},
   "outputs": [],
   "source": []
  }
 ],
 "metadata": {
  "kernelspec": {
   "display_name": "projekt-piosenki",
   "language": "python",
   "name": "projekt-piosenki"
  },
  "language_info": {
   "codemirror_mode": {
    "name": "ipython",
    "version": 3
   },
   "file_extension": ".py",
   "mimetype": "text/x-python",
   "name": "python",
   "nbconvert_exporter": "python",
   "pygments_lexer": "ipython3",
   "version": "3.10.1"
  }
 },
 "nbformat": 4,
 "nbformat_minor": 5
}
