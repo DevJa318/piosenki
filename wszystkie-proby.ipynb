{
 "cells": [
  {
   "cell_type": "markdown",
   "id": "bf69c39e-fc09-46b6-844b-04a9a06a53a7",
   "metadata": {},
   "source": [
    "Jak działa pobieranie tagów mp3?"
   ]
  },
  {
   "cell_type": "code",
   "execution_count": null,
   "id": "4e414d0d-3d53-4b4a-bf7b-dfe5954b1d6a",
   "metadata": {},
   "outputs": [],
   "source": [
    "import "
   ]
  }
 ],
 "metadata": {
  "kernelspec": {
   "display_name": "Python 3 (ipykernel)",
   "language": "python",
   "name": "python3"
  },
  "language_info": {
   "codemirror_mode": {
    "name": "ipython",
    "version": 3
   },
   "file_extension": ".py",
   "mimetype": "text/x-python",
   "name": "python",
   "nbconvert_exporter": "python",
   "pygments_lexer": "ipython3",
   "version": "3.10.1"
  }
 },
 "nbformat": 4,
 "nbformat_minor": 5
}
